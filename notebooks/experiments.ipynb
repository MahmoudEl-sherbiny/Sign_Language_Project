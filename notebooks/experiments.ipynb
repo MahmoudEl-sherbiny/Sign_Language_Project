{
 "cells": [
  {
   "cell_type": "code",
   "execution_count": null,
   "id": "79d96954",
   "metadata": {},
   "outputs": [],
   "source": [
    "import os\n",
    "import numpy as np\n",
    "from tensorflow.keras.preprocessing.image import ImageDataGenerator\n",
    "from tensorflow.keras.models import load_model\n",
    "from tensorflow.keras.preprocessing import image\n",
    "\n"
   ]
  },
  {
   "cell_type": "code",
   "execution_count": 1,
   "id": "e3c6a4c5",
   "metadata": {},
   "outputs": [],
   "source": [
    "train_dir = r'..\\data\\asl_alphabet_train\\asl_alphabet_train'\n",
    "test_dir = r'..\\data\\asl_alphabet_test\\asl_alphabet_test'"
   ]
  },
  {
   "cell_type": "code",
   "execution_count": null,
   "id": "3b7573b4",
   "metadata": {},
   "outputs": [
    {
     "name": "stdout",
     "output_type": "stream",
     "text": [
      "Number of classes: 29\n",
      "Classes: ['A', 'B', 'C', 'D', 'del', 'E', 'F', 'G', 'H', 'I', 'J', 'K', 'L', 'M', 'N', 'nothing', 'O', 'P', 'Q', 'R', 'S', 'space', 'T', 'U', 'V', 'W', 'X', 'Y', 'Z']\n"
     ]
    }
   ],
   "source": [
    "\n",
    "classes = os.listdir(train_dir)\n",
    "print(\"Number of classes:\", len(classes))\n",
    "print(\"Classes:\", classes)\n"
   ]
  },
  {
   "cell_type": "code",
   "execution_count": 4,
   "id": "5e680139",
   "metadata": {},
   "outputs": [
    {
     "data": {
      "text/plain": [
       "{0: 'A',\n",
       " 1: 'B',\n",
       " 2: 'C',\n",
       " 3: 'D',\n",
       " 4: 'del',\n",
       " 5: 'E',\n",
       " 6: 'F',\n",
       " 7: 'G',\n",
       " 8: 'H',\n",
       " 9: 'I',\n",
       " 10: 'J',\n",
       " 11: 'K',\n",
       " 12: 'L',\n",
       " 13: 'M',\n",
       " 14: 'N',\n",
       " 15: 'nothing',\n",
       " 16: 'O',\n",
       " 17: 'P',\n",
       " 18: 'Q',\n",
       " 19: 'R',\n",
       " 20: 'S',\n",
       " 21: 'space',\n",
       " 22: 'T',\n",
       " 23: 'U',\n",
       " 24: 'V',\n",
       " 25: 'W',\n",
       " 26: 'X',\n",
       " 27: 'Y',\n",
       " 28: 'Z'}"
      ]
     },
     "execution_count": 4,
     "metadata": {},
     "output_type": "execute_result"
    }
   ],
   "source": [
    "class_labels = {i: label for i, label in enumerate(classes)}\n",
    "class_labels"
   ]
  },
  {
   "cell_type": "code",
   "execution_count": null,
   "id": "21e5e203",
   "metadata": {},
   "outputs": [
    {
     "name": "stdout",
     "output_type": "stream",
     "text": [
      "Found 69600 images belonging to 29 classes.\n",
      "Found 17400 images belonging to 29 classes.\n"
     ]
    }
   ],
   "source": [
    "# from tensorflow.keras.preprocessing.image import ImageDataGenerator\n",
    "\n",
    "\n",
    "train_datagen = ImageDataGenerator(\n",
    "rescale=1./255,\n",
    "validation_split=0.2,\n",
    "rotation_range=20,\n",
    "width_shift_range=0.2,\n",
    "height_shift_range=0.2,\n",
    "shear_range=0.2,\n",
    "zoom_range=0.2,\n",
    "horizontal_flip=True,\n",
    "fill_mode='nearest'\n",
    ")\n",
    "\n",
    "val_datagen = ImageDataGenerator(\n",
    "rescale=1./255,\n",
    "validation_split=0.2\n",
    ")\n",
    "\n",
    "train_generator = train_datagen.flow_from_directory(\n",
    "train_dir,\n",
    "target_size=(64, 64),\n",
    "batch_size=32,\n",
    "color_mode='rgb',\n",
    "class_mode='categorical',\n",
    "subset='training'\n",
    ")\n",
    "\n",
    "val_generator = val_datagen.flow_from_directory(\n",
    "train_dir,\n",
    "target_size=(64, 64),\n",
    "batch_size=32,\n",
    "color_mode='rgb',\n",
    "class_mode='categorical',\n",
    "subset='validation'\n",
    ")\n"
   ]
  },
  {
   "cell_type": "code",
   "execution_count": null,
   "id": "196264e2",
   "metadata": {},
   "outputs": [
    {
     "name": "stderr",
     "output_type": "stream",
     "text": [
      "WARNING:absl:Compiled the loaded model, but the compiled metrics have yet to be built. `model.compile_metrics` will be empty until you train or evaluate the model.\n"
     ]
    }
   ],
   "source": [
    "# from tensorflow.keras.models import load_model\n",
    "model = load_model(r\"..\\models\\asl_gesture_model.h5\")\n"
   ]
  },
  {
   "cell_type": "code",
   "execution_count": null,
   "id": "217946d3",
   "metadata": {},
   "outputs": [
    {
     "name": "stdout",
     "output_type": "stream",
     "text": [
      "\u001b[1m1/1\u001b[0m \u001b[32m━━━━━━━━━━━━━━━━━━━━\u001b[0m\u001b[37m\u001b[0m \u001b[1m0s\u001b[0m 470ms/step\n",
      "Correct! The letter is H\n"
     ]
    }
   ],
   "source": [
    "# import numpy as np\n",
    "# from tensorflow.keras.preprocessing import image\n",
    "\n",
    "img_path = r\"..\\data\\asl_alphabet_test\\asl_alphabet_test\\H_test.jpg\"\n",
    "\n",
    "img = image.load_img(img_path, target_size=(64, 64))\n",
    "x = image.img_to_array(img)\n",
    "x = np.expand_dims(x, axis=0)\n",
    "x = x / 255.0\n",
    "\n",
    "pred = model.predict(x)\n",
    "predicted_class = np.argmax(pred)\n",
    "\n",
    "labels = list(train_generator.class_indices.keys())\n",
    "predicted_label = labels[predicted_class]\n",
    "\n",
    "\n",
    "true_label = \"H\"\n",
    "if predicted_label == true_label:\n",
    "    print(f\"Correct! The letter is {predicted_label}\")\n",
    "else:\n",
    "    print(f\"Incorrect! Predicted: {predicted_label}, True: {true_label}\")\n"
   ]
  }
 ],
 "metadata": {
  "kernelspec": {
   "display_name": "Python 3",
   "language": "python",
   "name": "python3"
  },
  "language_info": {
   "codemirror_mode": {
    "name": "ipython",
    "version": 3
   },
   "file_extension": ".py",
   "mimetype": "text/x-python",
   "name": "python",
   "nbconvert_exporter": "python",
   "pygments_lexer": "ipython3",
   "version": "3.10.0"
  }
 },
 "nbformat": 4,
 "nbformat_minor": 5
}
